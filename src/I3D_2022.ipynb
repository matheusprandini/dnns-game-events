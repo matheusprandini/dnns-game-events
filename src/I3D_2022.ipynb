{
  "nbformat": 4,
  "nbformat_minor": 0,
  "metadata": {
    "accelerator": "GPU",
    "colab": {
      "name": "I3D-2022.ipynb",
      "provenance": [],
      "collapsed_sections": [
        "WUOpm7GLNR0C",
        "XiNaZgh3e59A",
        "bTl2H2RpL1JM",
        "KS10rROyL1hk",
        "7SqH3ooeNAXO",
        "Q53rdJnCL18d",
        "VXk0tNm3L2Oc",
        "AEaNRffAMv4G",
        "ccSzp-hcNNPI",
        "oTCXM-H4VoGI",
        "SZQVIwmodM7S",
        "CVVN1bT5dO-x",
        "XkqO0mDZdRBN",
        "X84b1UrvhbSU",
        "B-V5C3kD6bn6",
        "B7G5RkHAeS2l",
        "4TdxKt9yeVbX",
        "RIeFWvzweWxd",
        "E8QwS9M7fdHn",
        "HmK-HBmTftbX",
        "8M2JRg-Ognel",
        "IbNLEZUj6xK1",
        "dt1-DSh0d0pq",
        "TSO_qXc8d29I",
        "4HOMpNft62Qa",
        "gGUaYJ0IlXx-",
        "KhQXfyTiVpZw",
        "H6slr_HrTrbh",
        "3BzIzqHmV0II",
        "bvXEqV_6T9wQ",
        "q5tQlQbYXKtw",
        "0wrn9cqlaQmy",
        "MiPk70B-XZ1f",
        "QY533hZ-ad4P",
        "sBAjrXfcXmIh",
        "s495vqajaj9n",
        "LK7OLqiPYyNQ",
        "v6ZiBwZJb_vo",
        "R3KSIgd6ZE0A",
        "zdQZzzfscL3Y",
        "2LRI4p8jZL0w",
        "YzsRM4BAcVmI",
        "Y7DrJEUydPXH",
        "_6gxCWNefQZ_",
        "Cj0F-nnWeJ8Y",
        "XxnQnteefdT4",
        "LirqomspeOBA",
        "zxN3-3vdf39Z",
        "gHuNHfqcgSY6",
        "F3vWjkuNgtx4",
        "bPBbqciMl2Ao",
        "impOhzI4qBlw"
      ],
      "mount_file_id": "1uD0qbmM-MimaDDhcDrNCxkorujY3Lf6f",
      "authorship_tag": "ABX9TyOctr9Mn+uz1T1JN0ExMKdS",
      "include_colab_link": true
    },
    "kernelspec": {
      "display_name": "Python 3",
      "name": "python3"
    }
  },
  "cells": [
    {
      "cell_type": "markdown",
      "metadata": {
        "id": "view-in-github",
        "colab_type": "text"
      },
      "source": [
        "<a href=\"https://colab.research.google.com/github/matheusprandini/dnns-game-events/blob/feat%2Fadding-docs/src/I3D_2022.ipynb\" target=\"_parent\"><img src=\"https://colab.research.google.com/assets/colab-badge.svg\" alt=\"Open In Colab\"/></a>"
      ]
    },
    {
      "cell_type": "markdown",
      "source": [
        "## Imports"
      ],
      "metadata": {
        "id": "WUOpm7GLNR0C"
      }
    },
    {
      "cell_type": "code",
      "source": [
        "import glob\n",
        "import math\n",
        "import os\n",
        "import numpy as np\n",
        "import random\n",
        "import shutil\n",
        "import zipfile\n",
        "\n",
        "from google.colab import drive\n",
        "from tensorflow.keras.applications import (\n",
        "    MobileNetV2, \n",
        "    ResNet50V2, \n",
        "    VGG16)\n",
        "from tensorflow.keras.callbacks import (\n",
        "    EarlyStopping,\n",
        "    ModelCheckpoint)\n",
        "from tensorflow.keras.layers import (\n",
        "    Activation,\n",
        "    BatchNormalization, \n",
        "    Conv2D, \n",
        "    Conv3D, \n",
        "    Dense,\n",
        "    Dropout, \n",
        "    Flatten,\n",
        "    GlobalAveragePooling2D, \n",
        "    GRU,  \n",
        "    Input, \n",
        "    LSTM, \n",
        "    MaxPooling2D, \n",
        "    Reshape)\n",
        "from tensorflow.keras.models import (\n",
        "    Model, \n",
        "    Sequential,\n",
        "    load_model)\n",
        "from tensorflow.keras.optimizers import Adam\n",
        "from tensorflow.keras.utils import (\n",
        "    Sequence, \n",
        "    to_categorical)"
      ],
      "metadata": {
        "id": "yUxhHM6vNU5a"
      },
      "execution_count": null,
      "outputs": []
    },
    {
      "cell_type": "markdown",
      "metadata": {
        "id": "XiNaZgh3e59A"
      },
      "source": [
        "## Loading Datasets"
      ]
    },
    {
      "cell_type": "code",
      "metadata": {
        "id": "GOQXE9K7CNgt"
      },
      "source": [
        "drive.mount('/content/drive',force_remount=True)"
      ],
      "execution_count": null,
      "outputs": []
    },
    {
      "cell_type": "markdown",
      "metadata": {
        "id": "8sZuFQxi0neY"
      },
      "source": [
        "### Mario Datasets"
      ]
    },
    {
      "cell_type": "markdown",
      "source": [
        "#### MobileNetV2 - Extracted Features from Chunks of 6 frames"
      ],
      "metadata": {
        "id": "5jnH7AdNLnL8"
      }
    },
    {
      "cell_type": "code",
      "source": [
        "driveFilePath = \"/content/drive/MyDrive/Datasets/Mario12EventsDataset_Chunk6_135Videos_MobileNetV2_Train.zip\"\n",
        "zip_ref = zipfile.ZipFile(driveFilePath, 'r')\n",
        "zip_ref.extractall(\"/content/chunk-dataset/mobilenetv2/\")\n",
        "zip_ref.close()\n",
        "\n",
        "inputDataset = \"/content/chunk-dataset/mobilenetv2/Mario12EventsDataset_Chunk6_135Videos_MobileNetV2_Train/\"\n",
        "trainDataset = \"/content/chunk-dataset/mobilenetv2/Mario12Events/train/\""
      ],
      "metadata": {
        "id": "dBxQNm25LkFH"
      },
      "execution_count": null,
      "outputs": []
    },
    {
      "cell_type": "markdown",
      "source": [
        "#### ResNet50V2 - Extracted Features from Chunks of 6 frames"
      ],
      "metadata": {
        "id": "bTl2H2RpL1JM"
      }
    },
    {
      "cell_type": "code",
      "source": [
        "driveFilePath = \"/content/drive/MyDrive/Datasets/Mario12EventsDataset_Chunk6_135Videos_ResNet50V2_Train.zip\"\n",
        "zip_ref = zipfile.ZipFile(driveFilePath, 'r')\n",
        "zip_ref.extractall(\"/content/chunk-dataset/resnet50v2/\")\n",
        "zip_ref.close()\n",
        "\n",
        "inputDataset = \"/content/chunk-dataset/resnet50v2/Mario12EventsDataset_Chunk6_135Videos_ResNet50V2_Train/\"\n",
        "trainDataset = \"/content/chunk-dataset/resnet50v2/Mario12Events/train/\""
      ],
      "metadata": {
        "id": "8CW03jTTL1JM"
      },
      "execution_count": null,
      "outputs": []
    },
    {
      "cell_type": "markdown",
      "source": [
        "#### VGG16 - Extracted Features from Chunks of 6 frames"
      ],
      "metadata": {
        "id": "KS10rROyL1hk"
      }
    },
    {
      "cell_type": "code",
      "source": [
        "driveFilePath = \"/content/drive/MyDrive/Datasets/Mario12EventsDataset_Chunk6_135Videos_VGG16_Train.zip\"\n",
        "zip_ref = zipfile.ZipFile(driveFilePath, 'r')\n",
        "zip_ref.extractall(\"/content/chunk-dataset/vgg16/\")\n",
        "zip_ref.close()\n",
        "\n",
        "inputDataset = \"/content/chunk-dataset/vgg16/Mario12EventsDataset_Chunk6_135Videos_VGG16_Train/\"\n",
        "trainDataset = \"/content/chunk-dataset/vgg16/Mario12Events/train/\""
      ],
      "metadata": {
        "id": "zFJ_piNEL1hl"
      },
      "execution_count": null,
      "outputs": []
    },
    {
      "cell_type": "markdown",
      "source": [
        "#### AlexNet - Extracted Features from Chunks of 6 frames"
      ],
      "metadata": {
        "id": "7SqH3ooeNAXO"
      }
    },
    {
      "cell_type": "code",
      "source": [
        "driveFilePath = \"/content/drive/MyDrive/Datasets/Mario12EventsDataset_Chunk6_135Videos_AlexNet_Train.zip\"\n",
        "zip_ref = zipfile.ZipFile(driveFilePath, 'r')\n",
        "zip_ref.extractall(\"/content/chunk-dataset/alexnet/\")\n",
        "zip_ref.close()\n",
        "\n",
        "inputDataset = \"/content/chunk-dataset/alexnet/Mario12EventsDataset_Chunk6_135Videos_AlexNet_Train/\"\n",
        "trainDataset = \"/content/chunk-dataset/alexnet/Mario12Events/train/\""
      ],
      "metadata": {
        "id": "9bil6FsuNDG9"
      },
      "execution_count": null,
      "outputs": []
    },
    {
      "cell_type": "markdown",
      "source": [
        "#### MobileNetV2 - Extracted Features from Individual frames"
      ],
      "metadata": {
        "id": "Q53rdJnCL18d"
      }
    },
    {
      "cell_type": "code",
      "source": [
        "driveFilePath = \"/content/drive/MyDrive/Datasets/Mario12EventsDataset_IndividualFrames_135Videos_MobileNetV2_Train.zip\"\n",
        "zip_ref = zipfile.ZipFile(driveFilePath, 'r')\n",
        "zip_ref.extractall(\"/content/individual-frames/mobilenetv2/\")\n",
        "zip_ref.close()\n",
        "\n",
        "inputDataset = \"/content/individual-frames/mobilenetv2/Mario12EventsDataset_IndividualFrames_135Videos_MobileNetV2_Train/\"\n",
        "trainDataset = \"/content/individual-frames/mobilenetv2/Mario12Events/train/\""
      ],
      "metadata": {
        "id": "IplnQw2eL18d"
      },
      "execution_count": null,
      "outputs": []
    },
    {
      "cell_type": "markdown",
      "source": [
        "#### ResNet50V2 - Extracted Features from Individual frames"
      ],
      "metadata": {
        "id": "VXk0tNm3L2Oc"
      }
    },
    {
      "cell_type": "code",
      "source": [
        "driveFilePath = \"/content/drive/MyDrive/Datasets/Mario12EventsDataset_IndividualFrames_135Videos_ResNet50V2_Train.zip\"\n",
        "zip_ref = zipfile.ZipFile(driveFilePath, 'r')\n",
        "zip_ref.extractall(\"/content/individual-frames/resnet50v2/\")\n",
        "zip_ref.close()\n",
        "\n",
        "inputDataset = \"/content/individual-frames/resnet50v2/Mario12EventsDataset_IndividualFrames_135Videos_ResNet50V2_Train/\"\n",
        "trainDataset = \"/content/individual-frames/resnet50v2/Mario12Events/train/\""
      ],
      "metadata": {
        "id": "zVVkS__eL2Od"
      },
      "execution_count": null,
      "outputs": []
    },
    {
      "cell_type": "markdown",
      "source": [
        "#### VGG16 - Extracted Features from Individual frames"
      ],
      "metadata": {
        "id": "AEaNRffAMv4G"
      }
    },
    {
      "cell_type": "code",
      "source": [
        "driveFilePath = \"/content/drive/MyDrive/Datasets/Mario12EventsDataset_IndividualFrames_135Videos_VGG16_Train.zip\"\n",
        "zip_ref = zipfile.ZipFile(driveFilePath, 'r')\n",
        "zip_ref.extractall(\"/content/individual-frames/vgg16/\")\n",
        "zip_ref.close()\n",
        "\n",
        "inputDataset = \"/content/individual-frames/vgg16/Mario12EventsDataset_IndividualFrames_135Videos_VGG16_Train/\"\n",
        "trainDataset = \"/content/individual-frames/vgg16/Mario12Events/train/\""
      ],
      "metadata": {
        "id": "JDWBeU6LMv4K"
      },
      "execution_count": null,
      "outputs": []
    },
    {
      "cell_type": "markdown",
      "source": [
        "#### AlexNet - Extracted Features from Individual frames"
      ],
      "metadata": {
        "id": "ccSzp-hcNNPI"
      }
    },
    {
      "cell_type": "code",
      "source": [
        "driveFilePath = \"/content/drive/MyDrive/Datasets/Mario12EventsDataset_IndividualFrames_135Videos_AlexNet_Train.zip\"\n",
        "zip_ref = zipfile.ZipFile(driveFilePath, 'r')\n",
        "zip_ref.extractall(\"/content/individual-frames/alexnet/\")\n",
        "zip_ref.close()\n",
        "\n",
        "inputDataset = \"/content/individual-frames/alexnet/Mario12EventsDataset_IndividualFrames_135Videos_AlexNet_Train/\"\n",
        "trainDataset = \"/content/individual-frames/alexnet/Mario12Events/train/\""
      ],
      "metadata": {
        "id": "hEBh9z_xNMao"
      },
      "execution_count": null,
      "outputs": []
    },
    {
      "cell_type": "markdown",
      "source": [
        "#### Raw Individual Frames - End to End AlexNet and MobileNetV2"
      ],
      "metadata": {
        "id": "prP02d8lNaEG"
      }
    },
    {
      "cell_type": "code",
      "metadata": {
        "id": "5N6GJRo_xRt5"
      },
      "source": [
        "driveFilePath = \"/content/drive/MyDrive/Datasets/Mario12EventsDataset_IndividualFrames_135Videos_RawImages_Train.zip\"\n",
        "zip_ref = zipfile.ZipFile(driveFilePath, 'r')\n",
        "zip_ref.extractall(\"/content/individual-frames/rawimages/\")\n",
        "zip_ref.close()\n",
        "\n",
        "inputDataset = \"/content/individual-frames/rawimages/Mario12EventsDataset_IndividualFrames_135Videos_RawImages_Train/\"\n",
        "trainDataset = \"/content/individual-frames/rawimages/Mario12Events/train/\""
      ],
      "execution_count": null,
      "outputs": []
    },
    {
      "cell_type": "markdown",
      "metadata": {
        "id": "oTCXM-H4VoGI"
      },
      "source": [
        "## Feature Extractors"
      ]
    },
    {
      "cell_type": "markdown",
      "source": [
        "### MobileNetV2"
      ],
      "metadata": {
        "id": "SZQVIwmodM7S"
      }
    },
    {
      "cell_type": "code",
      "metadata": {
        "id": "j2rmWBt7VrV0"
      },
      "source": [
        "class MobileNetV2Model():\n",
        "\n",
        "    def build_model(self, weights, includeTop, inputShape):\n",
        "        baseModel = MobileNetV2(weights=weights, include_top=includeTop, input_shape=inputShape)\n",
        "\n",
        "        model = Model(\n",
        "            inputs=baseModel.input,\n",
        "            outputs=baseModel.get_layer('global_average_pooling2d_3').output\n",
        "        )\n",
        "        \n",
        "        return model"
      ],
      "execution_count": null,
      "outputs": []
    },
    {
      "cell_type": "markdown",
      "source": [
        "### ResNet50V2"
      ],
      "metadata": {
        "id": "CVVN1bT5dO-x"
      }
    },
    {
      "cell_type": "code",
      "metadata": {
        "id": "lgrzE2UfVweW"
      },
      "source": [
        "class ResNet50V2Model():\n",
        "\n",
        "    def build_model(self, weights, includeTop, inputShape):\n",
        "        baseModel = ResNet50V2(weights=weights, include_top=includeTop, input_shape=inputShape)\n",
        "\n",
        "        model = Model(\n",
        "            inputs=baseModel.input,\n",
        "            outputs=baseModel.get_layer('avg_pool').output\n",
        "        )\n",
        "        \n",
        "        return model"
      ],
      "execution_count": null,
      "outputs": []
    },
    {
      "cell_type": "markdown",
      "source": [
        "### VGG16"
      ],
      "metadata": {
        "id": "XkqO0mDZdRBN"
      }
    },
    {
      "cell_type": "code",
      "metadata": {
        "id": "FtRgjoZBVzqk"
      },
      "source": [
        "class VGG16Model():\n",
        "\n",
        "    def build_model(self, weights, includeTop, inputShape):\n",
        "        baseModel = VGG16(weights=weights, include_top=includeTop, input_shape=inputShape)\n",
        "\n",
        "        model = Model(\n",
        "            inputs=baseModel.input,\n",
        "            outputs=baseModel.get_layer('fc2').output\n",
        "        )\n",
        "        \n",
        "        return model"
      ],
      "execution_count": null,
      "outputs": []
    },
    {
      "cell_type": "markdown",
      "source": [
        "### AlexNet"
      ],
      "metadata": {
        "id": "X84b1UrvhbSU"
      }
    },
    {
      "cell_type": "code",
      "source": [
        "class AlexNetModel():\n",
        "\n",
        "    def build_model(self, weights, includeTop, inputShape):\n",
        "        model = Sequential()\n",
        "        # 1nd Convolutional Layer\n",
        "        model.add(Conv2D(filters=96, input_shape=inputShape, kernel_size=(11,11), strides=(4,4), padding='valid'))\n",
        "        model.add(Activation('relu'))\n",
        "        model.add(MaxPooling2D(pool_size=(2,2), strides=(2,2), padding='valid'))\n",
        "        model.add(BatchNormalization())\n",
        "        # 2nd Convolutional Layer\n",
        "        model.add(Conv2D(filters=256, kernel_size=(11,11), strides=(1,1), padding='valid'))\n",
        "        model.add(Activation('relu'))\n",
        "        model.add(MaxPooling2D(pool_size=(2,2), strides=(2,2), padding='valid'))\n",
        "        model.add(BatchNormalization())\n",
        "        # 3rd Convolutional Layer\n",
        "        model.add(Conv2D(filters=384, kernel_size=(3,3), strides=(1,1), padding='valid'))\n",
        "        model.add(Activation('relu'))\n",
        "        model.add(BatchNormalization())\n",
        "        # 4th Convolutional Layer\n",
        "        model.add(Conv2D(filters=384, kernel_size=(3,3), strides=(1,1), padding='valid'))\n",
        "        model.add(Activation('relu'))\n",
        "        model.add(BatchNormalization())\n",
        "        # 5th Convolutional Layer\n",
        "        model.add(Conv2D(filters=256, kernel_size=(3,3), strides=(1,1), padding='valid'))\n",
        "        model.add(Activation('relu'))\n",
        "        model.add(MaxPooling2D(pool_size=(2,2), strides=(2,2), padding='valid'))\n",
        "        model.add(BatchNormalization())\n",
        "        print(model.summary())\n",
        "        return model"
      ],
      "metadata": {
        "id": "BLr6-ZQhhcri"
      },
      "execution_count": null,
      "outputs": []
    },
    {
      "cell_type": "markdown",
      "source": [
        "### Factory"
      ],
      "metadata": {
        "id": "nU0JpqC9dUAX"
      }
    },
    {
      "cell_type": "code",
      "metadata": {
        "id": "xyJSsI52Vqgu"
      },
      "source": [
        "class FeatureExtractorFactory():\n",
        "    modelNameToFeatureExtractorModel = {\n",
        "        \"MobileNetV2\": MobileNetV2Model(),\n",
        "        \"ResNet50V2\": ResNet50V2Model(),\n",
        "        \"VGG16\": VGG16Model(),\n",
        "        \"AlexNet\": AlexNetModel()\n",
        "    }\n",
        "\n",
        "    @staticmethod\n",
        "    def get_model(name, weights=\"imagenet\", includeTop=True, inputShape=(224,224,3)):\n",
        "        if name not in FeatureExtractorFactory.modelNameToFeatureExtractorModel:\n",
        "            return None\n",
        "        return FeatureExtractorFactory.modelNameToFeatureExtractorModel[name].build_model(weights, includeTop, inputShape)"
      ],
      "execution_count": null,
      "outputs": []
    },
    {
      "cell_type": "code",
      "source": [
        "model = FeatureExtractorFactory.get_model(\"VGG16\")\n",
        "model.summary()"
      ],
      "metadata": {
        "id": "44GLNz1qmE9t"
      },
      "execution_count": null,
      "outputs": []
    },
    {
      "cell_type": "markdown",
      "metadata": {
        "id": "B-V5C3kD6bn6"
      },
      "source": [
        "## Classifiers"
      ]
    },
    {
      "cell_type": "code",
      "metadata": {
        "id": "iQY1lRVN_xw0"
      },
      "source": [
        "class TRN():\n",
        "\n",
        "    def __init__(self):\n",
        "        self.model = None\n",
        "\n",
        "    def compile_model(self, learningRate):\n",
        "        self.model.compile(\n",
        "            loss=\"categorical_crossentropy\",\n",
        "            optimizer=Adam(learning_rate=learningRate),\n",
        "            metrics=[\"accuracy\"])\n",
        "\n",
        "    def train_model(self, trainGenerator, validationGenerator, numEpochs=100, modelName=\"test\"):\n",
        "        checkpointer = ModelCheckpoint(\n",
        "            filepath=modelName + \".h5\",\n",
        "            verbose=1,\n",
        "            save_best_only=True)\n",
        "        \n",
        "        earlyStopper = EarlyStopping(patience=20)\n",
        "\n",
        "        self.model.fit(\n",
        "            x=trainGenerator, \n",
        "            validation_data=validationGenerator, \n",
        "            epochs=numEpochs,\n",
        "            callbacks=[checkpointer, earlyStopper])"
      ],
      "execution_count": null,
      "outputs": []
    },
    {
      "cell_type": "markdown",
      "source": [
        "### GRU"
      ],
      "metadata": {
        "id": "B7G5RkHAeS2l"
      }
    },
    {
      "cell_type": "code",
      "metadata": {
        "id": "jFM3Ae8V6j7m"
      },
      "source": [
        "class TRNGRU(TRN):\n",
        "\n",
        "    def build_model(self, numTimesteps, numFeatures, numHiddenNodes=1280, numClasses=12):\n",
        "        self.model = Sequential()\n",
        "        self.model.add(GRU(numHiddenNodes, input_shape=(numTimesteps, numFeatures), dropout=0.2))\n",
        "        self.model.add(Dense(numClasses, activation=\"softmax\"))\n",
        "        print(self.model.summary())"
      ],
      "execution_count": null,
      "outputs": []
    },
    {
      "cell_type": "markdown",
      "source": [
        "### LSTM"
      ],
      "metadata": {
        "id": "4TdxKt9yeVbX"
      }
    },
    {
      "cell_type": "code",
      "metadata": {
        "id": "QeWg9zmc6n68"
      },
      "source": [
        "class TRNLSTM(TRN):\n",
        "\n",
        "    def build_model(self, numTimesteps, numFeatures, numHiddenNodes=1280, numClasses=12):\n",
        "        self.model = Sequential()\n",
        "        self.model.add(LSTM(numHiddenNodes, input_shape=(numTimesteps, numFeatures), dropout=0.2))\n",
        "        self.model.add(Dense(numClasses, activation=\"softmax\"))\n",
        "        print(self.model.summary())"
      ],
      "execution_count": null,
      "outputs": []
    },
    {
      "cell_type": "markdown",
      "source": [
        "### Dense - Full Connected Layers (FCL) \n",
        "\n",
        "Neural network based on the classifier layers of AlexNet."
      ],
      "metadata": {
        "id": "RIeFWvzweWxd"
      }
    },
    {
      "cell_type": "code",
      "metadata": {
        "id": "nFvnfaedCDWZ"
      },
      "source": [
        "class TRNDense(TRN):\n",
        "\n",
        "    def build_model(self, numTimesteps, numFeatures, numHiddenNodes=1280, numClasses=12):\n",
        "        self.model = Sequential()\n",
        "        self.model.add(Dense(4096, input_shape=(numTimesteps*numFeatures,)))\n",
        "        self.model.add(Activation('relu'))\n",
        "        self.model.add(Dropout(0.4))\n",
        "        self.model.add(BatchNormalization())\n",
        "        # 2nd Dense Layer\n",
        "        self.model.add(Dense(4096))\n",
        "        self.model.add(Activation('relu'))\n",
        "        self.model.add(Dropout(0.4))\n",
        "        self.model.add(BatchNormalization())\n",
        "        # 3rd Dense Layer\n",
        "        self.model.add(Dense(1000))\n",
        "        self.model.add(Activation('relu'))\n",
        "        self.model.add(Dropout(0.4))\n",
        "        self.model.add(BatchNormalization())\n",
        "        # Output Layer\n",
        "        self.model.add(Dense(numClasses))\n",
        "        self.model.add(Activation('softmax'))\n",
        "        print(self.model.summary())"
      ],
      "execution_count": null,
      "outputs": []
    },
    {
      "cell_type": "markdown",
      "source": [
        "### End to End - AlexNet"
      ],
      "metadata": {
        "id": "fG3jw1Z6eYLd"
      }
    },
    {
      "cell_type": "code",
      "metadata": {
        "id": "hJg2_EC6cPjg"
      },
      "source": [
        "class TRNAlexNet(TRN):\n",
        "\n",
        "    def build_model(self, numTimesteps=None, numFeatures=None, numHiddenNodes=None, numClasses=12):\n",
        "        self.model = Sequential()\n",
        "        # 1nd Convolutional Layer\n",
        "        self.model.add(Conv2D(filters=96, input_shape=(224,224,3), kernel_size=(11,11), strides=(4,4), padding='valid'))\n",
        "        self.model.add(Activation('relu'))\n",
        "        self.model.add(MaxPooling2D(pool_size=(2,2), strides=(2,2)))\n",
        "        #self.model.add(BatchNormalization())\n",
        "        # 2nd Convolutional Layer\n",
        "        self.model.add(Conv2D(filters=256, kernel_size=(11,11), strides=(1,1), padding='same'))\n",
        "        self.model.add(Activation('relu'))\n",
        "        self.model.add(MaxPooling2D(pool_size=(2,2), strides=(2,2)))\n",
        "        #self.model.add(BatchNormalization())\n",
        "        # 3rd Convolutional Layer\n",
        "        self.model.add(Conv2D(filters=384, kernel_size=(3,3), strides=(1,1), padding='same'))\n",
        "        self.model.add(Activation('relu'))\n",
        "        #self.model.add(BatchNormalization())\n",
        "        # 4th Convolutional Layer\n",
        "        self.model.add(Conv2D(filters=384, kernel_size=(3,3), strides=(1,1), padding='same'))\n",
        "        self.model.add(Activation('relu'))\n",
        "        #self.model.add(BatchNormalization())\n",
        "        # 5th Convolutional Layer\n",
        "        self.model.add(Conv2D(filters=256, kernel_size=(3,3), strides=(1,1), padding='same'))\n",
        "        self.model.add(Activation('relu'))\n",
        "        self.model.add(MaxPooling2D(pool_size=(2,2), strides=(2,2)))\n",
        "        #self.model.add(BatchNormalization())\n",
        "        # Passing it to a dense layer\n",
        "        self.model.add(Flatten())\n",
        "        # 1st Dense Layer\n",
        "        self.model.add(Dense(4096, input_shape=(224*224*3,)))\n",
        "        self.model.add(Activation('relu'))\n",
        "        self.model.add(Dropout(0.4))\n",
        "        #self.model.add(BatchNormalization())\n",
        "        # 2nd Dense Layer\n",
        "        self.model.add(Dense(4096))\n",
        "        self.model.add(Activation('relu'))\n",
        "        self.model.add(Dropout(0.4))\n",
        "        #self.model.add(BatchNormalization())\n",
        "        # 3rd Dense Layer\n",
        "        # self.model.add(Dense(1000))\n",
        "        # self.model.add(Activation('relu'))\n",
        "        # self.model.add(Dropout(0.4))\n",
        "        #self.model.add(BatchNormalization())\n",
        "        # Output Layer\n",
        "        self.model.add(Dense(numClasses))\n",
        "        self.model.add(Activation('softmax'))\n",
        "        print(self.model.summary())"
      ],
      "execution_count": null,
      "outputs": []
    },
    {
      "cell_type": "markdown",
      "source": [
        "### End to end - MobileNet"
      ],
      "metadata": {
        "id": "E8QwS9M7fdHn"
      }
    },
    {
      "cell_type": "code",
      "source": [
        "class TRNMobileNet(TRN):\n",
        "\n",
        "    def build_model(self, numTimesteps=None, numFeatures=None, numHiddenNodes=None, numClasses=12):\n",
        "        base_model = MobileNetV2(\n",
        "            weights=None,\n",
        "            include_top=False,\n",
        "            input_shape=(224, 224, 3)\n",
        "        )\n",
        "\n",
        "        inputs = Input(shape=(224, 224, 3))\n",
        "        x = base_model(inputs)\n",
        "        x = GlobalAveragePooling2D()(x)\n",
        "        logits = Dense(numClasses)(x)\n",
        "        outputs = Activation(\"softmax\")(logits)\n",
        "\n",
        "        self.model = Model(inputs, outputs)\n",
        "        print(self.model.summary())"
      ],
      "metadata": {
        "id": "1oDpPtB0IhI2"
      },
      "execution_count": null,
      "outputs": []
    },
    {
      "cell_type": "markdown",
      "source": [
        "### Factory"
      ],
      "metadata": {
        "id": "HmK-HBmTftbX"
      }
    },
    {
      "cell_type": "code",
      "metadata": {
        "id": "IpFzCFgc6rEH"
      },
      "source": [
        "class TRNFactory():\n",
        "    typeToModel = {\n",
        "        \"lstm\": TRNLSTM,\n",
        "        \"gru\": TRNGRU,\n",
        "        \"alexnet\": TRNAlexNet,\n",
        "        \"dense\": TRNDense,\n",
        "        'mobilenet': TRNMobileNet\n",
        "    }\n",
        "\n",
        "    @staticmethod\n",
        "    def get_model(typeName):\n",
        "        if typeName not in TRNFactory.typeToModel:\n",
        "            return None\n",
        "        return TRNFactory.typeToModel[typeName]()"
      ],
      "execution_count": null,
      "outputs": []
    },
    {
      "cell_type": "markdown",
      "source": [
        "## Generating Training/Testing Data"
      ],
      "metadata": {
        "id": "8M2JRg-Ognel"
      }
    },
    {
      "cell_type": "markdown",
      "metadata": {
        "id": "IbNLEZUj6xK1"
      },
      "source": [
        "### Data Generator"
      ]
    },
    {
      "cell_type": "code",
      "metadata": {
        "id": "w6f4Cmrg6yQ5"
      },
      "source": [
        "class DataGenerator(Sequence):\n",
        "\n",
        "    def __init__(self, listIDs, labels, dim=(1,6,1280,1), batchSize=32, numClasses=13, shuffle=True):\n",
        "        self.listIDs = listIDs\n",
        "        self.labels = labels\n",
        "        self.batchSize = batchSize\n",
        "        self.dim = dim\n",
        "        self.numClasses = numClasses\n",
        "        self.shuffle = shuffle\n",
        "        self.on_epoch_end()\n",
        "\n",
        "    def __len__(self):\n",
        "        return int(np.floor(len(self.listIDs) / self.batchSize))\n",
        "\n",
        "    def __getitem__(self, index):\n",
        "        indexes = self.indexes[index*self.batchSize:(index+1)*self.batchSize]\n",
        "        listIDsBatch = [self.listIDs[k] for k in indexes]\n",
        "        X, y = self.__data_generation(listIDsBatch)\n",
        "\n",
        "        return X, y\n",
        "\n",
        "    def on_epoch_end(self):\n",
        "        self.indexes = np.arange(len(self.listIDs))\n",
        "        if self.shuffle == True:\n",
        "            np.random.shuffle(self.indexes)\n",
        "\n",
        "    def __data_generation(self, listIDsBatch):\n",
        "        X = np.empty((self.batchSize, *self.dim))\n",
        "        y = np.empty((self.batchSize), dtype=int)\n",
        "\n",
        "        for i, ID in enumerate(listIDsBatch):\n",
        "            X[i,] = np.load(ID).reshape(self.dim)\n",
        "            y[i] = self.labels[ID]\n",
        "          \n",
        "        return X, to_categorical(y, num_classes=self.numClasses)"
      ],
      "execution_count": null,
      "outputs": []
    },
    {
      "cell_type": "markdown",
      "source": [
        "### Data Partitions"
      ],
      "metadata": {
        "id": "dt1-DSh0d0pq"
      }
    },
    {
      "cell_type": "code",
      "metadata": {
        "id": "P9a0XDWL6zDn"
      },
      "source": [
        "class DataPartitions():\n",
        "    \n",
        "    classLabels = {'EventBump': 0, 'EventCollect': 1, 'EventFallKill': 2, 'EventFireKill': 3,\n",
        "                   'EventHurt': 4, 'EventJump': 5, 'EventKick': 6, 'EventLand': 7,\n",
        "                   'EventLose': 8, 'EventShellKill': 9, 'EventStompKill': 10, 'EventWin': 11}\n",
        "\n",
        "    @staticmethod\n",
        "    def create_partitions_and_labels_cv_train(foldsPath, valIndex):\n",
        "        partition = []\n",
        "        labels = {}\n",
        "\n",
        "        for foldIndex in foldsPath.keys():\n",
        "\n",
        "            if foldIndex == valIndex:\n",
        "                continue\n",
        "\n",
        "            dataPath = foldsPath[foldIndex]\n",
        "            allFiles = os.listdir(dataPath)\n",
        "\n",
        "            for classFolder in allFiles:\n",
        "                if classFolder not in DataPartitions.classLabels:\n",
        "                    continue\n",
        "                allVideosPath = dataPath + classFolder + \"/\"\n",
        "                allVideos = os.listdir(allVideosPath)\n",
        "                for video in allVideos:\n",
        "                    chunkPath = allVideosPath + video\n",
        "                    partition.append(chunkPath)\n",
        "                    labels[chunkPath] = DataPartitions.classLabels[classFolder]\n",
        "\n",
        "        return partition, labels\n",
        "\n",
        "    @staticmethod\n",
        "    def create_partitions_and_labels_cv_val(foldsPath, valIndex):\n",
        "        partition = []\n",
        "        labels = {}\n",
        "\n",
        "        dataPath = foldsPath[valIndex]\n",
        "        allFiles = os.listdir(dataPath)\n",
        "\n",
        "        for classFolder in allFiles:\n",
        "            if classFolder not in DataPartitions.classLabels:\n",
        "                continue\n",
        "            allVideosPath = dataPath + classFolder + \"/\"\n",
        "            allVideos = os.listdir(allVideosPath)\n",
        "            for video in allVideos:\n",
        "                chunkPath = allVideosPath + video\n",
        "                partition.append(chunkPath)\n",
        "                labels[chunkPath] = DataPartitions.classLabels[classFolder]\n",
        "\n",
        "        return partition, labels"
      ],
      "execution_count": null,
      "outputs": []
    },
    {
      "cell_type": "markdown",
      "source": [
        "### Splitting Data - 5-Fold Cross Validation"
      ],
      "metadata": {
        "id": "TSO_qXc8d29I"
      }
    },
    {
      "cell_type": "code",
      "metadata": {
        "id": "87O-2XoU2HQD"
      },
      "source": [
        "Kfolds = 5\n",
        "\n",
        "folds = {}\n",
        "for k in range(Kfolds):\n",
        "    folds[k] = trainDataset + \"cv\" + str(k) + \"/\"\n",
        "\n",
        "def create_data():\n",
        "    subDirs = glob.glob(inputDataset + \"*\")\n",
        "    random.shuffle(subDirs)\n",
        "\n",
        "    for subDir in subDirs:\n",
        "        eventName = subDir.split(inputDataset)[-1]\n",
        "        \n",
        "        allChunks = glob.glob(subDir + \"/*\")\n",
        "\n",
        "        for i in range(len(allChunks)):\n",
        "            chunkPath = allChunks[i]\n",
        "            chunkName = chunkPath.split('/')[-1]\n",
        "            \n",
        "            foldIndex = i % Kfolds\n",
        "            newDir = folds[foldIndex] + eventName\n",
        "\n",
        "            destFilepath = newDir + \"/\" + chunkName\n",
        "            os.makedirs(newDir, exist_ok=True)\n",
        "            shutil.move(chunkPath, destFilepath)\n",
        "\n",
        "create_data()"
      ],
      "execution_count": null,
      "outputs": []
    },
    {
      "cell_type": "markdown",
      "metadata": {
        "id": "4HOMpNft62Qa"
      },
      "source": [
        "## Training Models"
      ]
    },
    {
      "cell_type": "code",
      "source": [
        "def train_model(\n",
        "    numTimesteps,\n",
        "    numFeatures,\n",
        "    numHiddenNodes,\n",
        "    numClasses,\n",
        "    featureExtractorName,\n",
        "    trnType,\n",
        "    input_dim\n",
        "):\n",
        "    epochs = 100\n",
        "    learningRate = 0.0005\n",
        "\n",
        "    for foldIndex in range(5):\n",
        "\n",
        "        finalModelFilename = \"trn_\" + featureExtractorName + \"_\" + trnType + \"_\" + str(numTimesteps) + \"_\" + str(foldIndex)\n",
        "\n",
        "        partitions = {}\n",
        "        labels = {}\n",
        "\n",
        "        partitions[\"train\"], labels[\"train\"] = DataPartitions.create_partitions_and_labels_cv_train(folds, foldIndex)\n",
        "        partitions[\"validation\"], labels[\"validation\"] = DataPartitions.create_partitions_and_labels_cv_val(folds, foldIndex)\n",
        "\n",
        "        trainGenerator = DataGenerator(partitions[\"train\"], labels[\"train\"], dim=input_dim, numClasses=numClasses)\n",
        "        validationGenerator = DataGenerator(partitions[\"validation\"], labels[\"validation\"], dim=input_dim, numClasses=numClasses)\n",
        "\n",
        "        trn = TRNFactory.get_model(trnType)\n",
        "        trn.build_model(numTimesteps, numFeatures, numHiddenNodes, numClasses)\n",
        "        trn.compile_model(learningRate)\n",
        "        trn.train_model(trainGenerator, validationGenerator, epochs, finalModelFilename)"
      ],
      "metadata": {
        "id": "jA49UwcNKoZ6"
      },
      "execution_count": null,
      "outputs": []
    },
    {
      "cell_type": "markdown",
      "source": [
        "### Model 1 - MobileNetV2 + LSTM + Chunk"
      ],
      "metadata": {
        "id": "HypnIKF7guM-"
      }
    },
    {
      "cell_type": "code",
      "source": [
        "numTimesteps = 6\n",
        "numFeatures = 1280\n",
        "numHiddenNodes = 1280\n",
        "numClasses = 12\n",
        "featureExtractorName = \"mobilenetv2\"\n",
        "trnType = \"lstm\"\n",
        "input_dim = (numTimesteps,numFeatures)\n",
        "\n",
        "train_model(\n",
        "    numTimesteps,\n",
        "    numFeatures,\n",
        "    numHiddenNodes,\n",
        "    numClasses,\n",
        "    featureExtractorName,\n",
        "    trnType,\n",
        "    input_dim)"
      ],
      "metadata": {
        "id": "C3VxykqJgxL1"
      },
      "execution_count": null,
      "outputs": []
    },
    {
      "cell_type": "code",
      "source": [
        "best_model = load_model(\"/content/trn_mobilenetv2_lstm_6_0.h5\")\n",
        "\n",
        "partitions = {}\n",
        "labels = {}\n",
        "best_fold_index = 0\n",
        "\n",
        "partitions[\"validation\"], labels[\"validation\"] = DataPartitions.create_partitions_and_labels_cv_val(folds, best_fold_index)\n",
        "validationGenerator = DataGenerator(partitions[\"validation\"], labels[\"validation\"], dim=input_dim, numClasses=numClasses)\n",
        "\n",
        "best_model.evaluate(validationGenerator)"
      ],
      "metadata": {
        "id": "GZcy_Rg7IWH7"
      },
      "execution_count": null,
      "outputs": []
    },
    {
      "cell_type": "markdown",
      "source": [
        "### Model 2 - MobileNetV2 + LSTM + Frame"
      ],
      "metadata": {
        "id": "gGUaYJ0IlXx-"
      }
    },
    {
      "cell_type": "code",
      "source": [
        "numTimesteps = 1\n",
        "numFeatures = 1280\n",
        "numHiddenNodes = 1280\n",
        "numClasses = 12\n",
        "featureExtractorName = \"mobilenetv2\"\n",
        "trnType = \"lstm\"\n",
        "input_dim = (numTimesteps,numFeatures)\n",
        "\n",
        "train_model(\n",
        "    numTimesteps,\n",
        "    numFeatures,\n",
        "    numHiddenNodes,\n",
        "    numClasses,\n",
        "    featureExtractorName,\n",
        "    trnType,\n",
        "    input_dim)"
      ],
      "metadata": {
        "id": "d-psQutVlXx_"
      },
      "execution_count": null,
      "outputs": []
    },
    {
      "cell_type": "markdown",
      "source": [
        "### Model 3 - MobileNetV2 + GRU + Chunk"
      ],
      "metadata": {
        "id": "KhQXfyTiVpZw"
      }
    },
    {
      "cell_type": "code",
      "source": [
        "numTimesteps = 6\n",
        "numFeatures = 1280\n",
        "numHiddenNodes = 1280\n",
        "numClasses = 12\n",
        "featureExtractorName = \"mobilenetv2\"\n",
        "trnType = \"gru\"\n",
        "input_dim = (numTimesteps,numFeatures)\n",
        "\n",
        "train_model(\n",
        "    numTimesteps,\n",
        "    numFeatures,\n",
        "    numHiddenNodes,\n",
        "    numClasses,\n",
        "    featureExtractorName,\n",
        "    trnType,\n",
        "    input_dim)"
      ],
      "metadata": {
        "id": "pYyqzrxAVpZ5"
      },
      "execution_count": null,
      "outputs": []
    },
    {
      "cell_type": "markdown",
      "source": [
        "### Model 4 - MobileNetV2 + GRU + Frame"
      ],
      "metadata": {
        "id": "H6slr_HrTrbh"
      }
    },
    {
      "cell_type": "code",
      "source": [
        "numTimesteps = 1\n",
        "numFeatures = 1280\n",
        "numHiddenNodes = 1280\n",
        "numClasses = 12\n",
        "featureExtractorName = \"mobilenetv2\"\n",
        "trnType = \"gru\"\n",
        "input_dim = (numTimesteps,numFeatures)\n",
        "\n",
        "train_model(\n",
        "    numTimesteps,\n",
        "    numFeatures,\n",
        "    numHiddenNodes,\n",
        "    numClasses,\n",
        "    featureExtractorName,\n",
        "    trnType,\n",
        "    input_dim)"
      ],
      "metadata": {
        "id": "fbAwpJRGTrbp"
      },
      "execution_count": null,
      "outputs": []
    },
    {
      "cell_type": "markdown",
      "source": [
        "### Model 5 - MobileNetV2 + Dense + Chunk"
      ],
      "metadata": {
        "id": "3BzIzqHmV0II"
      }
    },
    {
      "cell_type": "code",
      "source": [
        "numTimesteps = 6\n",
        "numFeatures = 1280\n",
        "numHiddenNodes = 1280\n",
        "numClasses = 12\n",
        "featureExtractorName = \"mobilenetv2\"\n",
        "trnType = \"dense\"\n",
        "input_dim = (numTimesteps*numFeatures,)\n",
        "\n",
        "train_model(\n",
        "    numTimesteps,\n",
        "    numFeatures,\n",
        "    numHiddenNodes,\n",
        "    numClasses,\n",
        "    featureExtractorName,\n",
        "    trnType,\n",
        "    input_dim)"
      ],
      "metadata": {
        "id": "93tPT1mPV0IJ"
      },
      "execution_count": null,
      "outputs": []
    },
    {
      "cell_type": "markdown",
      "source": [
        "### Model 6 - MobileNetV2 + Dense + Frame"
      ],
      "metadata": {
        "id": "bvXEqV_6T9wQ"
      }
    },
    {
      "cell_type": "code",
      "source": [
        "numTimesteps = 1\n",
        "numFeatures = 1280\n",
        "numHiddenNodes = 1280\n",
        "numClasses = 12\n",
        "featureExtractorName = \"mobilenetv2\"\n",
        "trnType = \"dense\"\n",
        "input_dim = (numTimesteps*numFeatures,)\n",
        "\n",
        "train_model(\n",
        "    numTimesteps,\n",
        "    numFeatures,\n",
        "    numHiddenNodes,\n",
        "    numClasses,\n",
        "    featureExtractorName,\n",
        "    trnType,\n",
        "    input_dim)"
      ],
      "metadata": {
        "id": "clVN3ROCT9wQ"
      },
      "execution_count": null,
      "outputs": []
    },
    {
      "cell_type": "markdown",
      "source": [
        "### Model 7 - ResNet50V2 + LSTM + Chunk"
      ],
      "metadata": {
        "id": "q5tQlQbYXKtw"
      }
    },
    {
      "cell_type": "code",
      "source": [
        "numTimesteps = 6\n",
        "numFeatures = 2048\n",
        "numHiddenNodes = 2048\n",
        "numClasses = 12\n",
        "featureExtractorName = \"resnet50v2\"\n",
        "trnType = \"lstm\"\n",
        "input_dim = (numTimesteps,numFeatures)\n",
        "\n",
        "train_model(\n",
        "    numTimesteps,\n",
        "    numFeatures,\n",
        "    numHiddenNodes,\n",
        "    numClasses,\n",
        "    featureExtractorName,\n",
        "    trnType,\n",
        "    input_dim)"
      ],
      "metadata": {
        "id": "1-UaUlRtXKt4"
      },
      "execution_count": null,
      "outputs": []
    },
    {
      "cell_type": "markdown",
      "source": [
        "### Model 8 - ResNet50V2 + LSTM + Frame"
      ],
      "metadata": {
        "id": "0wrn9cqlaQmy"
      }
    },
    {
      "cell_type": "code",
      "source": [
        "numTimesteps = 1\n",
        "numFeatures = 2048\n",
        "numHiddenNodes = 2048\n",
        "numClasses = 12\n",
        "featureExtractorName = \"resnet50v2\"\n",
        "trnType = \"lstm\"\n",
        "input_dim = (numTimesteps,numFeatures)\n",
        "\n",
        "train_model(\n",
        "    numTimesteps,\n",
        "    numFeatures,\n",
        "    numHiddenNodes,\n",
        "    numClasses,\n",
        "    featureExtractorName,\n",
        "    trnType,\n",
        "    input_dim)"
      ],
      "metadata": {
        "id": "lz3PsQ1CaQm7"
      },
      "execution_count": null,
      "outputs": []
    },
    {
      "cell_type": "markdown",
      "source": [
        "### Model 9 - ResNet50V2 + GRU + Chunk"
      ],
      "metadata": {
        "id": "MiPk70B-XZ1f"
      }
    },
    {
      "cell_type": "code",
      "source": [
        "numTimesteps = 6\n",
        "numFeatures = 2048\n",
        "numHiddenNodes = 2048\n",
        "numClasses = 12\n",
        "featureExtractorName = \"resnet50v2\"\n",
        "trnType = \"gru\"\n",
        "input_dim = (numTimesteps,numFeatures)\n",
        "\n",
        "train_model(\n",
        "    numTimesteps,\n",
        "    numFeatures,\n",
        "    numHiddenNodes,\n",
        "    numClasses,\n",
        "    featureExtractorName,\n",
        "    trnType,\n",
        "    input_dim)"
      ],
      "metadata": {
        "id": "57O0hWIYXZ1f"
      },
      "execution_count": null,
      "outputs": []
    },
    {
      "cell_type": "markdown",
      "source": [
        "### Model 10 - ResNet50V2 + GRU + Frame"
      ],
      "metadata": {
        "id": "QY533hZ-ad4P"
      }
    },
    {
      "cell_type": "code",
      "source": [
        "numTimesteps = 1\n",
        "numFeatures = 2048\n",
        "numHiddenNodes = 2048\n",
        "numClasses = 12\n",
        "featureExtractorName = \"resnet50v2\"\n",
        "trnType = \"gru\"\n",
        "input_dim = (numTimesteps,numFeatures)\n",
        "\n",
        "train_model(\n",
        "    numTimesteps,\n",
        "    numFeatures,\n",
        "    numHiddenNodes,\n",
        "    numClasses,\n",
        "    featureExtractorName,\n",
        "    trnType,\n",
        "    input_dim)"
      ],
      "metadata": {
        "id": "Yez0vbgKad4Q"
      },
      "execution_count": null,
      "outputs": []
    },
    {
      "cell_type": "markdown",
      "source": [
        "### Model 11 - ResNet50V2 + Dense + Chunk"
      ],
      "metadata": {
        "id": "sBAjrXfcXmIh"
      }
    },
    {
      "cell_type": "code",
      "source": [
        "numTimesteps = 6\n",
        "numFeatures = 2048\n",
        "numHiddenNodes = 2048\n",
        "numClasses = 12\n",
        "featureExtractorName = \"resnet50v2\"\n",
        "trnType = \"dense\"\n",
        "input_dim = (numTimesteps*numFeatures,)\n",
        "\n",
        "train_model(\n",
        "    numTimesteps,\n",
        "    numFeatures,\n",
        "    numHiddenNodes,\n",
        "    numClasses,\n",
        "    featureExtractorName,\n",
        "    trnType,\n",
        "    input_dim)"
      ],
      "metadata": {
        "id": "PPgHz-_gXmIi"
      },
      "execution_count": null,
      "outputs": []
    },
    {
      "cell_type": "markdown",
      "source": [
        "### Model 12 - ResNet50V2 + Dense + Frame"
      ],
      "metadata": {
        "id": "s495vqajaj9n"
      }
    },
    {
      "cell_type": "code",
      "source": [
        "numTimesteps = 1\n",
        "numFeatures = 2048\n",
        "numHiddenNodes = 2048\n",
        "numClasses = 12\n",
        "featureExtractorName = \"resnet50v2\"\n",
        "trnType = \"dense\"\n",
        "input_dim = (numTimesteps*numFeatures,)\n",
        "\n",
        "train_model(\n",
        "    numTimesteps,\n",
        "    numFeatures,\n",
        "    numHiddenNodes,\n",
        "    numClasses,\n",
        "    featureExtractorName,\n",
        "    trnType,\n",
        "    input_dim)"
      ],
      "metadata": {
        "id": "HDWHITuAaj9n"
      },
      "execution_count": null,
      "outputs": []
    },
    {
      "cell_type": "markdown",
      "source": [
        "### Model 13 - VGG16 + LSTM + Chunk"
      ],
      "metadata": {
        "id": "LK7OLqiPYyNQ"
      }
    },
    {
      "cell_type": "code",
      "source": [
        "numTimesteps = 6\n",
        "numFeatures = 4096\n",
        "numHiddenNodes = 4096\n",
        "numClasses = 12\n",
        "featureExtractorName = \"vgg16\"\n",
        "trnType = \"lstm\"\n",
        "input_dim = (numTimesteps,numFeatures)\n",
        "\n",
        "train_model(\n",
        "    numTimesteps,\n",
        "    numFeatures,\n",
        "    numHiddenNodes,\n",
        "    numClasses,\n",
        "    featureExtractorName,\n",
        "    trnType,\n",
        "    input_dim)"
      ],
      "metadata": {
        "id": "1pU3sgpnYyNS"
      },
      "execution_count": null,
      "outputs": []
    },
    {
      "cell_type": "markdown",
      "source": [
        "### Model 14 - VGG16 + LSTM + Frame"
      ],
      "metadata": {
        "id": "v6ZiBwZJb_vo"
      }
    },
    {
      "cell_type": "code",
      "source": [
        "numTimesteps = 1\n",
        "numFeatures = 4096\n",
        "numHiddenNodes = 4096\n",
        "numClasses = 12\n",
        "featureExtractorName = \"vgg16\"\n",
        "trnType = \"lstm\"\n",
        "input_dim = (numTimesteps,numFeatures)\n",
        "\n",
        "train_model(\n",
        "    numTimesteps,\n",
        "    numFeatures,\n",
        "    numHiddenNodes,\n",
        "    numClasses,\n",
        "    featureExtractorName,\n",
        "    trnType,\n",
        "    input_dim)"
      ],
      "metadata": {
        "id": "qd6nVUH2b_vx"
      },
      "execution_count": null,
      "outputs": []
    },
    {
      "cell_type": "markdown",
      "source": [
        "### Model 15 - VGG16 + GRU + Chunk"
      ],
      "metadata": {
        "id": "R3KSIgd6ZE0A"
      }
    },
    {
      "cell_type": "code",
      "source": [
        "numTimesteps = 6\n",
        "numFeatures = 4096\n",
        "numHiddenNodes = 4096\n",
        "numClasses = 12\n",
        "featureExtractorName = \"vgg16\"\n",
        "trnType = \"gru\"\n",
        "input_dim = (numTimesteps,numFeatures)\n",
        "\n",
        "train_model(\n",
        "    numTimesteps,\n",
        "    numFeatures,\n",
        "    numHiddenNodes,\n",
        "    numClasses,\n",
        "    featureExtractorName,\n",
        "    trnType,\n",
        "    input_dim)"
      ],
      "metadata": {
        "id": "8aHZvZtMZE0B"
      },
      "execution_count": null,
      "outputs": []
    },
    {
      "cell_type": "markdown",
      "source": [
        "### Model 16 - VGG16 + GRU + Frame"
      ],
      "metadata": {
        "id": "zdQZzzfscL3Y"
      }
    },
    {
      "cell_type": "code",
      "source": [
        "numTimesteps = 1\n",
        "numFeatures = 4096\n",
        "numHiddenNodes = 4096\n",
        "numClasses = 12\n",
        "featureExtractorName = \"vgg16\"\n",
        "trnType = \"gru\"\n",
        "input_dim = (numTimesteps,numFeatures)\n",
        "\n",
        "train_model(\n",
        "    numTimesteps,\n",
        "    numFeatures,\n",
        "    numHiddenNodes,\n",
        "    numClasses,\n",
        "    featureExtractorName,\n",
        "    trnType,\n",
        "    input_dim)"
      ],
      "metadata": {
        "id": "2jvmx2ehcL3Z"
      },
      "execution_count": null,
      "outputs": []
    },
    {
      "cell_type": "markdown",
      "source": [
        "### Model 17 - VGG16 + Dense + Chunk"
      ],
      "metadata": {
        "id": "2LRI4p8jZL0w"
      }
    },
    {
      "cell_type": "code",
      "source": [
        "numTimesteps = 6\n",
        "numFeatures = 4096\n",
        "numHiddenNodes = 4096\n",
        "numClasses = 12\n",
        "featureExtractorName = \"vgg16\"\n",
        "trnType = \"dense\"\n",
        "input_dim = (numTimesteps*numFeatures,)\n",
        "\n",
        "train_model(\n",
        "    numTimesteps,\n",
        "    numFeatures,\n",
        "    numHiddenNodes,\n",
        "    numClasses,\n",
        "    featureExtractorName,\n",
        "    trnType,\n",
        "    input_dim)"
      ],
      "metadata": {
        "id": "iwO_p0bfZL0x"
      },
      "execution_count": null,
      "outputs": []
    },
    {
      "cell_type": "markdown",
      "source": [
        "### Model 18 - VGG16 + Dense + Frame"
      ],
      "metadata": {
        "id": "YzsRM4BAcVmI"
      }
    },
    {
      "cell_type": "code",
      "source": [
        "numTimesteps = 1\n",
        "numFeatures = 4096\n",
        "numHiddenNodes = 4096\n",
        "numClasses = 12\n",
        "featureExtractorName = \"vgg16\"\n",
        "trnType = \"dense\"\n",
        "input_dim = (numTimesteps*numFeatures,)\n",
        "\n",
        "train_model(\n",
        "    numTimesteps,\n",
        "    numFeatures,\n",
        "    numHiddenNodes,\n",
        "    numClasses,\n",
        "    featureExtractorName,\n",
        "    trnType,\n",
        "    input_dim)"
      ],
      "metadata": {
        "id": "dd-fqtUAcVmJ"
      },
      "execution_count": null,
      "outputs": []
    },
    {
      "cell_type": "markdown",
      "source": [
        "### Model 19 - AlexNet + LSTM + Chunk"
      ],
      "metadata": {
        "id": "Y7DrJEUydPXH"
      }
    },
    {
      "cell_type": "code",
      "source": [
        "numTimesteps = 6\n",
        "numFeatures = 4096\n",
        "numHiddenNodes = 4096\n",
        "numClasses = 12\n",
        "featureExtractorName = \"alexnet\"\n",
        "trnType = \"lstm\"\n",
        "input_dim = (numTimesteps,numFeatures)\n",
        "\n",
        "train_model(\n",
        "    numTimesteps,\n",
        "    numFeatures,\n",
        "    numHiddenNodes,\n",
        "    numClasses,\n",
        "    featureExtractorName,\n",
        "    trnType,\n",
        "    input_dim)"
      ],
      "metadata": {
        "id": "05rPYDqhdPXI"
      },
      "execution_count": null,
      "outputs": []
    },
    {
      "cell_type": "markdown",
      "source": [
        "### Model 20 - AlexNet + LSTM + Frame"
      ],
      "metadata": {
        "id": "_6gxCWNefQZ_"
      }
    },
    {
      "cell_type": "code",
      "source": [
        "numTimesteps = 1\n",
        "numFeatures = 4096\n",
        "numHiddenNodes = 4096\n",
        "numClasses = 12\n",
        "featureExtractorName = \"alexnet\"\n",
        "trnType = \"lstm\"\n",
        "input_dim = (numTimesteps,numFeatures)\n",
        "\n",
        "train_model(\n",
        "    numTimesteps,\n",
        "    numFeatures,\n",
        "    numHiddenNodes,\n",
        "    numClasses,\n",
        "    featureExtractorName,\n",
        "    trnType,\n",
        "    input_dim)"
      ],
      "metadata": {
        "id": "FfQzyQExfQaH"
      },
      "execution_count": null,
      "outputs": []
    },
    {
      "cell_type": "markdown",
      "source": [
        "### Model 21 - AlexNet + GRU + Chunk"
      ],
      "metadata": {
        "id": "Cj0F-nnWeJ8Y"
      }
    },
    {
      "cell_type": "code",
      "source": [
        "numTimesteps = 6\n",
        "numFeatures = 4096\n",
        "numHiddenNodes = 4096\n",
        "numClasses = 12\n",
        "featureExtractorName = \"alexnet\"\n",
        "trnType = \"gru\"\n",
        "input_dim = (numTimesteps,numFeatures)\n",
        "\n",
        "train_model(\n",
        "    numTimesteps,\n",
        "    numFeatures,\n",
        "    numHiddenNodes,\n",
        "    numClasses,\n",
        "    featureExtractorName,\n",
        "    trnType,\n",
        "    input_dim)"
      ],
      "metadata": {
        "id": "Wn_NJcoxeJ8h"
      },
      "execution_count": null,
      "outputs": []
    },
    {
      "cell_type": "markdown",
      "source": [
        "### Model 22 - AlexNet + GRU + Frame"
      ],
      "metadata": {
        "id": "XxnQnteefdT4"
      }
    },
    {
      "cell_type": "code",
      "source": [
        "numTimesteps = 1\n",
        "numFeatures = 4096\n",
        "numHiddenNodes = 4096\n",
        "numClasses = 12\n",
        "featureExtractorName = \"alexnet\"\n",
        "trnType = \"gru\"\n",
        "input_dim = (numTimesteps,numFeatures)\n",
        "\n",
        "train_model(\n",
        "    numTimesteps,\n",
        "    numFeatures,\n",
        "    numHiddenNodes,\n",
        "    numClasses,\n",
        "    featureExtractorName,\n",
        "    trnType,\n",
        "    input_dim)"
      ],
      "metadata": {
        "id": "feAy5ljHfdT4"
      },
      "execution_count": null,
      "outputs": []
    },
    {
      "cell_type": "markdown",
      "source": [
        "### Model 23 - AlexNet + Dense + Chunk"
      ],
      "metadata": {
        "id": "LirqomspeOBA"
      }
    },
    {
      "cell_type": "code",
      "source": [
        "numTimesteps = 6\n",
        "numFeatures = 4096\n",
        "numHiddenNodes = 4096\n",
        "numClasses = 12\n",
        "featureExtractorName = \"alexnet\"\n",
        "trnType = \"dense\"\n",
        "input_dim = (numTimesteps*numFeatures,)\n",
        "\n",
        "train_model(\n",
        "    numTimesteps,\n",
        "    numFeatures,\n",
        "    numHiddenNodes,\n",
        "    numClasses,\n",
        "    featureExtractorName,\n",
        "    trnType,\n",
        "    input_dim)"
      ],
      "metadata": {
        "id": "N69ivU8beOBB"
      },
      "execution_count": null,
      "outputs": []
    },
    {
      "cell_type": "markdown",
      "source": [
        "### Model 24 - AlexNet + Dense + Frame"
      ],
      "metadata": {
        "id": "zxN3-3vdf39Z"
      }
    },
    {
      "cell_type": "code",
      "source": [
        "numTimesteps = 1\n",
        "numFeatures = 4096\n",
        "numHiddenNodes = 4096\n",
        "numClasses = 12\n",
        "featureExtractorName = \"alexnet\"\n",
        "trnType = \"dense\"\n",
        "input_dim = (numTimesteps*numFeatures,)\n",
        "\n",
        "train_model(\n",
        "    numTimesteps,\n",
        "    numFeatures,\n",
        "    numHiddenNodes,\n",
        "    numClasses,\n",
        "    featureExtractorName,\n",
        "    trnType,\n",
        "    input_dim)"
      ],
      "metadata": {
        "id": "SyiwFTiCf39h"
      },
      "execution_count": null,
      "outputs": []
    },
    {
      "cell_type": "markdown",
      "source": [
        "### Model 25 - End to End AlexNet"
      ],
      "metadata": {
        "id": "gHuNHfqcgSY6"
      }
    },
    {
      "cell_type": "code",
      "source": [
        "numTimesteps = ''\n",
        "numFeatures = ''\n",
        "numHiddenNodes = ''\n",
        "numClasses = 12\n",
        "featureExtractorName = ''\n",
        "trnType = \"alexnet\"\n",
        "input_dim = (224,224,3)\n",
        "\n",
        "train_model(\n",
        "    numTimesteps,\n",
        "    numFeatures,\n",
        "    numHiddenNodes,\n",
        "    numClasses,\n",
        "    featureExtractorName,\n",
        "    trnType,\n",
        "    input_dim)"
      ],
      "metadata": {
        "id": "402I6Q2vgSY7"
      },
      "execution_count": null,
      "outputs": []
    },
    {
      "cell_type": "code",
      "source": [
        "best_model = load_model(\"/content/trn__alexnet__0.h5\")\n",
        "\n",
        "partitions = {}\n",
        "labels = {}\n",
        "best_fold_index = 0\n",
        "\n",
        "partitions[\"validation\"], labels[\"validation\"] = DataPartitions.create_partitions_and_labels_cv_val(folds, best_fold_index)\n",
        "validationGenerator = DataGenerator(partitions[\"validation\"], labels[\"validation\"], dim=input_dim, numClasses=numClasses)\n",
        "\n",
        "best_model.evaluate(validationGenerator)"
      ],
      "metadata": {
        "id": "Imb7DwGSG3w7"
      },
      "execution_count": null,
      "outputs": []
    },
    {
      "cell_type": "markdown",
      "source": [
        "### Model 26 - End to End MobileNetV2"
      ],
      "metadata": {
        "id": "F3vWjkuNgtx4"
      }
    },
    {
      "cell_type": "code",
      "source": [
        "numTimesteps = ''\n",
        "numFeatures = ''\n",
        "numHiddenNodes = ''\n",
        "numClasses = 12\n",
        "featureExtractorName = ''\n",
        "trnType = \"mobilenet\"\n",
        "input_dim = (224,224,3)\n",
        "\n",
        "train_model(\n",
        "    numTimesteps,\n",
        "    numFeatures,\n",
        "    numHiddenNodes,\n",
        "    numClasses,\n",
        "    featureExtractorName,\n",
        "    trnType,\n",
        "    input_dim)"
      ],
      "metadata": {
        "id": "InUunUWigtx5"
      },
      "execution_count": null,
      "outputs": []
    },
    {
      "cell_type": "markdown",
      "source": [
        "## Confusion Matrix - Model 1"
      ],
      "metadata": {
        "id": "bPBbqciMl2Ao"
      }
    },
    {
      "cell_type": "code",
      "source": [
        "partitions = {}\n",
        "labels = {}\n",
        "best_fold_index = 3\n",
        "\n",
        "partitions[\"train\"], labels[\"train\"] = DataPartitions.create_partitions_and_labels_cv_train(folds, best_fold_index)\n",
        "partitions[\"validation\"], labels[\"validation\"] = DataPartitions.create_partitions_and_labels_cv_val(folds, best_fold_index)\n",
        "\n",
        "trainGenerator = DataGenerator(partitions[\"train\"], labels[\"train\"], dim=input_dim, numClasses=numClasses)\n",
        "validationGenerator = DataGenerator(partitions[\"validation\"], labels[\"validation\"], dim=input_dim, numClasses=numClasses)"
      ],
      "metadata": {
        "id": "sfpmGoEUl7VP"
      },
      "execution_count": null,
      "outputs": []
    },
    {
      "cell_type": "code",
      "source": [
        "best_model = load_model(\"/content/trn_mobilenetv2_lstm_6_3.h5\")"
      ],
      "metadata": {
        "id": "xTQRtDCgnl0v"
      },
      "execution_count": null,
      "outputs": []
    },
    {
      "cell_type": "code",
      "source": [
        "confusion_matrix = {}\n",
        "\n",
        "for chunk_name, true_label in validationGenerator.labels.items():\n",
        "    chunk = np.load(chunk_name).reshape((-1,) + input_dim)\n",
        "    predicted_label = np.argmax(best_model.predict(chunk))\n",
        "    if true_label not in confusion_matrix:\n",
        "        confusion_matrix[true_label] = {}\n",
        "    if predicted_label not in confusion_matrix[true_label]:\n",
        "        confusion_matrix[true_label][predicted_label] = 0\n",
        "    confusion_matrix[true_label][predicted_label] += 1"
      ],
      "metadata": {
        "id": "eQUdMK5Uo1fF"
      },
      "execution_count": null,
      "outputs": []
    },
    {
      "cell_type": "code",
      "source": [
        "confusion_matrix"
      ],
      "metadata": {
        "id": "x8vxY1nDsKzG"
      },
      "execution_count": null,
      "outputs": []
    },
    {
      "cell_type": "markdown",
      "source": [
        "## Confusion Matrix - Model 25"
      ],
      "metadata": {
        "id": "impOhzI4qBlw"
      }
    },
    {
      "cell_type": "code",
      "source": [
        "partitions = {}\n",
        "labels = {}\n",
        "best_fold_index = 0\n",
        "\n",
        "partitions[\"train\"], labels[\"train\"] = DataPartitions.create_partitions_and_labels_cv_train(folds, best_fold_index)\n",
        "partitions[\"validation\"], labels[\"validation\"] = DataPartitions.create_partitions_and_labels_cv_val(folds, best_fold_index)\n",
        "\n",
        "trainGenerator = DataGenerator(partitions[\"train\"], labels[\"train\"], dim=input_dim, numClasses=numClasses)\n",
        "validationGenerator = DataGenerator(partitions[\"validation\"], labels[\"validation\"], dim=input_dim, numClasses=numClasses)"
      ],
      "metadata": {
        "id": "opEGOzobqBlz"
      },
      "execution_count": null,
      "outputs": []
    },
    {
      "cell_type": "code",
      "source": [
        "best_model = load_model(\"/content/trn__alexnet__0.h5\")"
      ],
      "metadata": {
        "id": "luX5u1FsqBl0"
      },
      "execution_count": null,
      "outputs": []
    },
    {
      "cell_type": "code",
      "source": [
        "confusion_matrix = {}\n",
        "\n",
        "for chunk_name, true_label in validationGenerator.labels.items():\n",
        "    chunk = np.load(chunk_name).reshape((-1,) + input_dim)\n",
        "    predicted_label = np.argmax(best_model.predict(chunk))\n",
        "    if true_label not in confusion_matrix:\n",
        "        confusion_matrix[true_label] = {}\n",
        "    if predicted_label not in confusion_matrix[true_label]:\n",
        "        confusion_matrix[true_label][predicted_label] = 0\n",
        "    confusion_matrix[true_label][predicted_label] += 1"
      ],
      "metadata": {
        "id": "liGFRVFuqBl1"
      },
      "execution_count": null,
      "outputs": []
    },
    {
      "cell_type": "code",
      "source": [
        "confusion_matrix"
      ],
      "metadata": {
        "id": "hHo_TeXMqBl2"
      },
      "execution_count": null,
      "outputs": []
    }
  ]
}